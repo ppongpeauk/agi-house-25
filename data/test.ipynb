{
 "cells": [
  {
   "cell_type": "code",
   "execution_count": 1,
   "metadata": {},
   "outputs": [],
   "source": [
    "import pandas as pd\n",
    "filename = \"data/outbreaks/cholera_outbreaks.csv\""
   ]
  },
  {
   "cell_type": "code",
   "execution_count": 4,
   "metadata": {},
   "outputs": [
    {
     "name": "stdout",
     "output_type": "stream",
     "text": [
      "   start_date    end_date   country disease_0  disease_1  disease_2  \\\n",
      "0  2015-09-01  2017-11-30  Ethiopia   cholera        NaN        NaN   \n",
      "1  2018-05-21  2019-01-07  Ethiopia   cholera        NaN        NaN   \n",
      "2  2019-04-22  2021-03-01  Ethiopia   cholera        NaN        NaN   \n",
      "3  2022-08-01  2023-12-31  Ethiopia   cholera        NaN        NaN   \n",
      "4  2025-01-01  2025-02-18  Ethiopia   cholera        NaN        NaN   \n",
      "\n",
      "   disease_3  disease_4  disease_5  disease_6  disease_7  disease_8  disease_9  \n",
      "0        NaN        NaN        NaN        NaN        NaN        NaN        NaN  \n",
      "1        NaN        NaN        NaN        NaN        NaN        NaN        NaN  \n",
      "2        NaN        NaN        NaN        NaN        NaN        NaN        NaN  \n",
      "3        NaN        NaN        NaN        NaN        NaN        NaN        NaN  \n",
      "4        NaN        NaN        NaN        NaN        NaN        NaN        NaN  \n"
     ]
    }
   ],
   "source": [
    "df = pd.read_csv(filename)\n",
    "print(df)\n"
   ]
  },
  {
   "cell_type": "code",
   "execution_count": null,
   "metadata": {},
   "outputs": [],
   "source": []
  }
 ],
 "metadata": {
  "kernelspec": {
   "display_name": "agi",
   "language": "python",
   "name": "python3"
  },
  "language_info": {
   "codemirror_mode": {
    "name": "ipython",
    "version": 3
   },
   "file_extension": ".py",
   "mimetype": "text/x-python",
   "name": "python",
   "nbconvert_exporter": "python",
   "pygments_lexer": "ipython3",
   "version": "3.10.16"
  }
 },
 "nbformat": 4,
 "nbformat_minor": 2
}
